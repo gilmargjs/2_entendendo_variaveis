{
  "nbformat": 4,
  "nbformat_minor": 0,
  "metadata": {
    "colab": {
      "provenance": [],
      "authorship_tag": "ABX9TyNGPyQASFE7p8zPvlXYKxKU",
      "include_colab_link": true
    },
    "kernelspec": {
      "name": "python3",
      "display_name": "Python 3"
    },
    "language_info": {
      "name": "python"
    }
  },
  "cells": [
    {
      "cell_type": "markdown",
      "metadata": {
        "id": "view-in-github",
        "colab_type": "text"
      },
      "source": [
        "<a href=\"https://colab.research.google.com/github/gilmargjs/2_entendendo_variaveis/blob/main/classe_contrutora_animail.ipynb\" target=\"_parent\"><img src=\"https://colab.research.google.com/assets/colab-badge.svg\" alt=\"Open In Colab\"/></a>"
      ]
    },
    {
      "cell_type": "code",
      "execution_count": 1,
      "metadata": {
        "id": "jbh5fGkfyzs6"
      },
      "outputs": [],
      "source": [
        "class Animais():\n",
        "    def __init__(self, nome, raca, cor, numero):\n",
        "        self.nome = nome\n",
        "        self.raca = raca\n",
        "        self.cor = cor\n",
        "        self.numero = numero\n",
        "        print('Objeto Construtor Criado')\n",
        "\n",
        "    def imprime(self, nome, raca, cor, numero):\n",
        "        print(\"Este Animal é %s da raca %s e cor %s com numero %d\" %(nome, raca, cor, numero))"
      ]
    },
    {
      "cell_type": "code",
      "source": [
        "print(\"-\"*30)\n",
        "print(f'{\"Dados dos Animais\":^30}')\n",
        "print(\"-\"*30)\n",
        "lesse = Animais(input(\"nome :\"),input(\"raca :\"), input(\"cor :\"), input(\"numero :\"))\n",
        "less = []\n",
        "less.append(lesse.nome)\n",
        "less.append(lesse.raca)\n",
        "less.append(lesse.cor)\n",
        "less.append(lesse.numero)\n",
        "print(less)\n",
        "print(\"-\"*30)\n"
      ],
      "metadata": {
        "colab": {
          "base_uri": "https://localhost:8080/"
        },
        "id": "cJJe5rRQzCC7",
        "outputId": "5d62915d-14e5-463c-c29e-30b86c20f15e"
      },
      "execution_count": 14,
      "outputs": [
        {
          "output_type": "stream",
          "name": "stdout",
          "text": [
            "------------------------------\n",
            "      Dados dos Animais       \n",
            "------------------------------\n",
            "nome :juby\n",
            "raca :labrador\n",
            "cor :branco\n",
            "numero :01\n",
            "Objeto Construtor Criado\n",
            "['juby', 'labrador', 'branco', '01']\n",
            "------------------------------\n"
          ]
        }
      ]
    }
  ]
}